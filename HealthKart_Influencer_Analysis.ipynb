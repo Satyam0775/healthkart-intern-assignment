{
 "cells": [
  {
   "cell_type": "code",
   "execution_count": 3,
   "id": "475dc8d2",
   "metadata": {},
   "outputs": [],
   "source": [
    "# 📦 Step 1: Import required libraries\n",
    "import pandas as pd\n",
    "import matplotlib.pyplot as plt\n",
    "import seaborn as sns\n",
    "import os\n",
    "\n",
    "# 📁 Load datasets from /data folder\n",
    "data_path = 'data'\n",
    "\n",
    "influencers = pd.read_csv(f\"{data_path}/influencers.csv\")\n",
    "posts = pd.read_csv(f\"{data_path}/posts.csv\")\n",
    "tracking = pd.read_csv(f\"{data_path}/tracking_data.csv\")\n",
    "payouts = pd.read_csv(f\"{data_path}/payouts.csv\")\n",
    "\n",
    "# ✅ Optional: Clean column names\n",
    "for df in [influencers, posts, tracking, payouts]:\n",
    "    df.columns = df.columns.str.strip().str.lower().str.replace(' ', '_')\n"
   ]
  },
  {
   "cell_type": "code",
   "execution_count": 4,
   "id": "9a4ecda7",
   "metadata": {},
   "outputs": [
    {
     "data": {
      "application/vnd.microsoft.datawrangler.viewer.v0+json": {
       "columns": [
        {
         "name": "index",
         "rawType": "int64",
         "type": "integer"
        },
        {
         "name": "influencer_id",
         "rawType": "int64",
         "type": "integer"
        },
        {
         "name": "orders",
         "rawType": "int64",
         "type": "integer"
        },
        {
         "name": "revenue",
         "rawType": "float64",
         "type": "float"
        }
       ],
       "ref": "cee24dc9-a346-41be-9668-e73406933ece",
       "rows": [
        [
         "0",
         "1",
         "31",
         "7905.59"
        ],
        [
         "1",
         "2",
         "47",
         "11935.27"
        ],
        [
         "2",
         "3",
         "79",
         "19561.03"
        ],
        [
         "3",
         "4",
         "66",
         "13494.8"
        ],
        [
         "4",
         "5",
         "41",
         "9185.01"
        ]
       ],
       "shape": {
        "columns": 3,
        "rows": 5
       }
      },
      "text/html": [
       "<div>\n",
       "<style scoped>\n",
       "    .dataframe tbody tr th:only-of-type {\n",
       "        vertical-align: middle;\n",
       "    }\n",
       "\n",
       "    .dataframe tbody tr th {\n",
       "        vertical-align: top;\n",
       "    }\n",
       "\n",
       "    .dataframe thead th {\n",
       "        text-align: right;\n",
       "    }\n",
       "</style>\n",
       "<table border=\"1\" class=\"dataframe\">\n",
       "  <thead>\n",
       "    <tr style=\"text-align: right;\">\n",
       "      <th></th>\n",
       "      <th>influencer_id</th>\n",
       "      <th>orders</th>\n",
       "      <th>revenue</th>\n",
       "    </tr>\n",
       "  </thead>\n",
       "  <tbody>\n",
       "    <tr>\n",
       "      <th>0</th>\n",
       "      <td>1</td>\n",
       "      <td>31</td>\n",
       "      <td>7905.59</td>\n",
       "    </tr>\n",
       "    <tr>\n",
       "      <th>1</th>\n",
       "      <td>2</td>\n",
       "      <td>47</td>\n",
       "      <td>11935.27</td>\n",
       "    </tr>\n",
       "    <tr>\n",
       "      <th>2</th>\n",
       "      <td>3</td>\n",
       "      <td>79</td>\n",
       "      <td>19561.03</td>\n",
       "    </tr>\n",
       "    <tr>\n",
       "      <th>3</th>\n",
       "      <td>4</td>\n",
       "      <td>66</td>\n",
       "      <td>13494.80</td>\n",
       "    </tr>\n",
       "    <tr>\n",
       "      <th>4</th>\n",
       "      <td>5</td>\n",
       "      <td>41</td>\n",
       "      <td>9185.01</td>\n",
       "    </tr>\n",
       "  </tbody>\n",
       "</table>\n",
       "</div>"
      ],
      "text/plain": [
       "   influencer_id  orders   revenue\n",
       "0              1      31   7905.59\n",
       "1              2      47  11935.27\n",
       "2              3      79  19561.03\n",
       "3              4      66  13494.80\n",
       "4              5      41   9185.01"
      ]
     },
     "execution_count": 4,
     "metadata": {},
     "output_type": "execute_result"
    }
   ],
   "source": [
    "# 📊 Step 2: Aggregate tracking data by influencer_id\n",
    "tracking_summary = tracking.groupby('influencer_id').agg({\n",
    "    'orders': 'sum',\n",
    "    'revenue': 'sum'\n",
    "}).reset_index()\n",
    "\n",
    "# 👁️ View result\n",
    "tracking_summary.head()\n"
   ]
  },
  {
   "cell_type": "code",
   "execution_count": 5,
   "id": "2a7352f3",
   "metadata": {},
   "outputs": [
    {
     "data": {
      "application/vnd.microsoft.datawrangler.viewer.v0+json": {
       "columns": [
        {
         "name": "index",
         "rawType": "int64",
         "type": "integer"
        },
        {
         "name": "influencer_id",
         "rawType": "int64",
         "type": "integer"
        },
        {
         "name": "revenue",
         "rawType": "float64",
         "type": "float"
        },
        {
         "name": "total_payout",
         "rawType": "int64",
         "type": "integer"
        },
        {
         "name": "roas",
         "rawType": "float64",
         "type": "float"
        }
       ],
       "ref": "fc6c543a-43aa-46ea-b477-53940b0951a0",
       "rows": [
        [
         "0",
         "1",
         "7905.59",
         "141700",
         "0.05579103740296401"
        ],
        [
         "1",
         "2",
         "11935.27",
         "8250",
         "1.446699393939394"
        ],
        [
         "2",
         "3",
         "19561.03",
         "1000",
         "19.56103"
        ],
        [
         "3",
         "4",
         "13494.8",
         "1000",
         "13.4948"
        ],
        [
         "4",
         "5",
         "9185.01",
         "1000",
         "9.18501"
        ]
       ],
       "shape": {
        "columns": 4,
        "rows": 5
       }
      },
      "text/html": [
       "<div>\n",
       "<style scoped>\n",
       "    .dataframe tbody tr th:only-of-type {\n",
       "        vertical-align: middle;\n",
       "    }\n",
       "\n",
       "    .dataframe tbody tr th {\n",
       "        vertical-align: top;\n",
       "    }\n",
       "\n",
       "    .dataframe thead th {\n",
       "        text-align: right;\n",
       "    }\n",
       "</style>\n",
       "<table border=\"1\" class=\"dataframe\">\n",
       "  <thead>\n",
       "    <tr style=\"text-align: right;\">\n",
       "      <th></th>\n",
       "      <th>influencer_id</th>\n",
       "      <th>revenue</th>\n",
       "      <th>total_payout</th>\n",
       "      <th>roas</th>\n",
       "    </tr>\n",
       "  </thead>\n",
       "  <tbody>\n",
       "    <tr>\n",
       "      <th>0</th>\n",
       "      <td>1</td>\n",
       "      <td>7905.59</td>\n",
       "      <td>141700</td>\n",
       "      <td>0.055791</td>\n",
       "    </tr>\n",
       "    <tr>\n",
       "      <th>1</th>\n",
       "      <td>2</td>\n",
       "      <td>11935.27</td>\n",
       "      <td>8250</td>\n",
       "      <td>1.446699</td>\n",
       "    </tr>\n",
       "    <tr>\n",
       "      <th>2</th>\n",
       "      <td>3</td>\n",
       "      <td>19561.03</td>\n",
       "      <td>1000</td>\n",
       "      <td>19.561030</td>\n",
       "    </tr>\n",
       "    <tr>\n",
       "      <th>3</th>\n",
       "      <td>4</td>\n",
       "      <td>13494.80</td>\n",
       "      <td>1000</td>\n",
       "      <td>13.494800</td>\n",
       "    </tr>\n",
       "    <tr>\n",
       "      <th>4</th>\n",
       "      <td>5</td>\n",
       "      <td>9185.01</td>\n",
       "      <td>1000</td>\n",
       "      <td>9.185010</td>\n",
       "    </tr>\n",
       "  </tbody>\n",
       "</table>\n",
       "</div>"
      ],
      "text/plain": [
       "   influencer_id   revenue  total_payout       roas\n",
       "0              1   7905.59        141700   0.055791\n",
       "1              2  11935.27          8250   1.446699\n",
       "2              3  19561.03          1000  19.561030\n",
       "3              4  13494.80          1000  13.494800\n",
       "4              5   9185.01          1000   9.185010"
      ]
     },
     "execution_count": 5,
     "metadata": {},
     "output_type": "execute_result"
    }
   ],
   "source": [
    "# 💸 Step 3: Merge with payouts and calculate ROAS\n",
    "df = pd.merge(tracking_summary, payouts, on='influencer_id', how='left')\n",
    "\n",
    "# Calculate ROAS\n",
    "df['roas'] = df['revenue'] / df['total_payout']\n",
    "\n",
    "# 👁️ View result\n",
    "df[['influencer_id', 'revenue', 'total_payout', 'roas']].head()\n"
   ]
  },
  {
   "cell_type": "code",
   "execution_count": 6,
   "id": "de20a9fa",
   "metadata": {},
   "outputs": [
    {
     "data": {
      "application/vnd.microsoft.datawrangler.viewer.v0+json": {
       "columns": [
        {
         "name": "index",
         "rawType": "int64",
         "type": "integer"
        },
        {
         "name": "influencer_id",
         "rawType": "int64",
         "type": "integer"
        },
        {
         "name": "orders_x",
         "rawType": "int64",
         "type": "integer"
        },
        {
         "name": "revenue",
         "rawType": "float64",
         "type": "float"
        },
        {
         "name": "basis",
         "rawType": "object",
         "type": "string"
        },
        {
         "name": "rate",
         "rawType": "int64",
         "type": "integer"
        },
        {
         "name": "orders_y",
         "rawType": "int64",
         "type": "integer"
        },
        {
         "name": "total_payout",
         "rawType": "int64",
         "type": "integer"
        },
        {
         "name": "roas",
         "rawType": "float64",
         "type": "float"
        },
        {
         "name": "name",
         "rawType": "object",
         "type": "string"
        },
        {
         "name": "category",
         "rawType": "object",
         "type": "string"
        },
        {
         "name": "platform",
         "rawType": "object",
         "type": "string"
        }
       ],
       "ref": "19d2881c-b9e7-4b61-99dc-e6bca0ff1dc2",
       "rows": [
        [
         "0",
         "1",
         "31",
         "7905.59",
         "order",
         "50",
         "2834",
         "141700",
         "0.05579103740296401",
         "Influencer_1",
         "Fitness",
         "TikTok"
        ],
        [
         "1",
         "2",
         "47",
         "11935.27",
         "order",
         "50",
         "165",
         "8250",
         "1.446699393939394",
         "Influencer_2",
         "Food",
         "YouTube"
        ],
        [
         "2",
         "3",
         "79",
         "19561.03",
         "post",
         "1000",
         "2539",
         "1000",
         "19.56103",
         "Influencer_3",
         "Travel",
         "TikTok"
        ],
        [
         "3",
         "4",
         "66",
         "13494.8",
         "post",
         "1000",
         "100",
         "1000",
         "13.4948",
         "Influencer_4",
         "Food",
         "YouTube"
        ],
        [
         "4",
         "5",
         "41",
         "9185.01",
         "post",
         "1000",
         "550",
         "1000",
         "9.18501",
         "Influencer_5",
         "Food",
         "Instagram"
        ]
       ],
       "shape": {
        "columns": 11,
        "rows": 5
       }
      },
      "text/html": [
       "<div>\n",
       "<style scoped>\n",
       "    .dataframe tbody tr th:only-of-type {\n",
       "        vertical-align: middle;\n",
       "    }\n",
       "\n",
       "    .dataframe tbody tr th {\n",
       "        vertical-align: top;\n",
       "    }\n",
       "\n",
       "    .dataframe thead th {\n",
       "        text-align: right;\n",
       "    }\n",
       "</style>\n",
       "<table border=\"1\" class=\"dataframe\">\n",
       "  <thead>\n",
       "    <tr style=\"text-align: right;\">\n",
       "      <th></th>\n",
       "      <th>influencer_id</th>\n",
       "      <th>orders_x</th>\n",
       "      <th>revenue</th>\n",
       "      <th>basis</th>\n",
       "      <th>rate</th>\n",
       "      <th>orders_y</th>\n",
       "      <th>total_payout</th>\n",
       "      <th>roas</th>\n",
       "      <th>name</th>\n",
       "      <th>category</th>\n",
       "      <th>platform</th>\n",
       "    </tr>\n",
       "  </thead>\n",
       "  <tbody>\n",
       "    <tr>\n",
       "      <th>0</th>\n",
       "      <td>1</td>\n",
       "      <td>31</td>\n",
       "      <td>7905.59</td>\n",
       "      <td>order</td>\n",
       "      <td>50</td>\n",
       "      <td>2834</td>\n",
       "      <td>141700</td>\n",
       "      <td>0.055791</td>\n",
       "      <td>Influencer_1</td>\n",
       "      <td>Fitness</td>\n",
       "      <td>TikTok</td>\n",
       "    </tr>\n",
       "    <tr>\n",
       "      <th>1</th>\n",
       "      <td>2</td>\n",
       "      <td>47</td>\n",
       "      <td>11935.27</td>\n",
       "      <td>order</td>\n",
       "      <td>50</td>\n",
       "      <td>165</td>\n",
       "      <td>8250</td>\n",
       "      <td>1.446699</td>\n",
       "      <td>Influencer_2</td>\n",
       "      <td>Food</td>\n",
       "      <td>YouTube</td>\n",
       "    </tr>\n",
       "    <tr>\n",
       "      <th>2</th>\n",
       "      <td>3</td>\n",
       "      <td>79</td>\n",
       "      <td>19561.03</td>\n",
       "      <td>post</td>\n",
       "      <td>1000</td>\n",
       "      <td>2539</td>\n",
       "      <td>1000</td>\n",
       "      <td>19.561030</td>\n",
       "      <td>Influencer_3</td>\n",
       "      <td>Travel</td>\n",
       "      <td>TikTok</td>\n",
       "    </tr>\n",
       "    <tr>\n",
       "      <th>3</th>\n",
       "      <td>4</td>\n",
       "      <td>66</td>\n",
       "      <td>13494.80</td>\n",
       "      <td>post</td>\n",
       "      <td>1000</td>\n",
       "      <td>100</td>\n",
       "      <td>1000</td>\n",
       "      <td>13.494800</td>\n",
       "      <td>Influencer_4</td>\n",
       "      <td>Food</td>\n",
       "      <td>YouTube</td>\n",
       "    </tr>\n",
       "    <tr>\n",
       "      <th>4</th>\n",
       "      <td>5</td>\n",
       "      <td>41</td>\n",
       "      <td>9185.01</td>\n",
       "      <td>post</td>\n",
       "      <td>1000</td>\n",
       "      <td>550</td>\n",
       "      <td>1000</td>\n",
       "      <td>9.185010</td>\n",
       "      <td>Influencer_5</td>\n",
       "      <td>Food</td>\n",
       "      <td>Instagram</td>\n",
       "    </tr>\n",
       "  </tbody>\n",
       "</table>\n",
       "</div>"
      ],
      "text/plain": [
       "   influencer_id  orders_x   revenue  basis  rate  orders_y  total_payout  \\\n",
       "0              1        31   7905.59  order    50      2834        141700   \n",
       "1              2        47  11935.27  order    50       165          8250   \n",
       "2              3        79  19561.03   post  1000      2539          1000   \n",
       "3              4        66  13494.80   post  1000       100          1000   \n",
       "4              5        41   9185.01   post  1000       550          1000   \n",
       "\n",
       "        roas          name category   platform  \n",
       "0   0.055791  Influencer_1  Fitness     TikTok  \n",
       "1   1.446699  Influencer_2     Food    YouTube  \n",
       "2  19.561030  Influencer_3   Travel     TikTok  \n",
       "3  13.494800  Influencer_4     Food    YouTube  \n",
       "4   9.185010  Influencer_5     Food  Instagram  "
      ]
     },
     "execution_count": 6,
     "metadata": {},
     "output_type": "execute_result"
    }
   ],
   "source": [
    "# 🧠 Step 4: Add name, category, platform info\n",
    "df = pd.merge(df, influencers[['influencer_id', 'name', 'category', 'platform']], on='influencer_id', how='left')\n",
    "\n",
    "# 👁️ Final combined data\n",
    "df.head()\n"
   ]
  },
  {
   "cell_type": "code",
   "execution_count": 7,
   "metadata": {},
   "outputs": [
    {
     "data": {
      "application/vnd.microsoft.datawrangler.viewer.v0+json": {
       "columns": [
        {
         "name": "index",
         "rawType": "int64",
         "type": "integer"
        },
        {
         "name": "name",
         "rawType": "object",
         "type": "string"
        },
        {
         "name": "platform",
         "rawType": "object",
         "type": "string"
        },
        {
         "name": "category",
         "rawType": "object",
         "type": "string"
        },
        {
         "name": "revenue",
         "rawType": "float64",
         "type": "float"
        },
        {
         "name": "total_payout",
         "rawType": "int64",
         "type": "integer"
        },
        {
         "name": "roas",
         "rawType": "float64",
         "type": "float"
        }
       ],
       "ref": "aecdab92-3f98-46a8-a11b-64327beecec2",
       "rows": [
        [
         "2",
         "Influencer_3",
         "TikTok",
         "Travel",
         "19561.03",
         "1000",
         "19.56103"
        ],
        [
         "8",
         "Influencer_9",
         "Instagram",
         "Travel",
         "18199.329999999998",
         "1000",
         "18.19933"
        ],
        [
         "9",
         "Influencer_10",
         "YouTube",
         "Food",
         "15051.09",
         "1000",
         "15.05109"
        ],
        [
         "11",
         "Influencer_12",
         "Twitter",
         "Fitness",
         "14851.59",
         "1000",
         "14.85159"
        ],
        [
         "5",
         "Influencer_6",
         "Twitter",
         "Beauty",
         "14514.15",
         "1000",
         "14.514149999999999"
        ]
       ],
       "shape": {
        "columns": 6,
        "rows": 5
       }
      },
      "text/html": [
       "<div>\n",
       "<style scoped>\n",
       "    .dataframe tbody tr th:only-of-type {\n",
       "        vertical-align: middle;\n",
       "    }\n",
       "\n",
       "    .dataframe tbody tr th {\n",
       "        vertical-align: top;\n",
       "    }\n",
       "\n",
       "    .dataframe thead th {\n",
       "        text-align: right;\n",
       "    }\n",
       "</style>\n",
       "<table border=\"1\" class=\"dataframe\">\n",
       "  <thead>\n",
       "    <tr style=\"text-align: right;\">\n",
       "      <th></th>\n",
       "      <th>name</th>\n",
       "      <th>platform</th>\n",
       "      <th>category</th>\n",
       "      <th>revenue</th>\n",
       "      <th>total_payout</th>\n",
       "      <th>roas</th>\n",
       "    </tr>\n",
       "  </thead>\n",
       "  <tbody>\n",
       "    <tr>\n",
       "      <th>2</th>\n",
       "      <td>Influencer_3</td>\n",
       "      <td>TikTok</td>\n",
       "      <td>Travel</td>\n",
       "      <td>19561.03</td>\n",
       "      <td>1000</td>\n",
       "      <td>19.56103</td>\n",
       "    </tr>\n",
       "    <tr>\n",
       "      <th>8</th>\n",
       "      <td>Influencer_9</td>\n",
       "      <td>Instagram</td>\n",
       "      <td>Travel</td>\n",
       "      <td>18199.33</td>\n",
       "      <td>1000</td>\n",
       "      <td>18.19933</td>\n",
       "    </tr>\n",
       "    <tr>\n",
       "      <th>9</th>\n",
       "      <td>Influencer_10</td>\n",
       "      <td>YouTube</td>\n",
       "      <td>Food</td>\n",
       "      <td>15051.09</td>\n",
       "      <td>1000</td>\n",
       "      <td>15.05109</td>\n",
       "    </tr>\n",
       "    <tr>\n",
       "      <th>11</th>\n",
       "      <td>Influencer_12</td>\n",
       "      <td>Twitter</td>\n",
       "      <td>Fitness</td>\n",
       "      <td>14851.59</td>\n",
       "      <td>1000</td>\n",
       "      <td>14.85159</td>\n",
       "    </tr>\n",
       "    <tr>\n",
       "      <th>5</th>\n",
       "      <td>Influencer_6</td>\n",
       "      <td>Twitter</td>\n",
       "      <td>Beauty</td>\n",
       "      <td>14514.15</td>\n",
       "      <td>1000</td>\n",
       "      <td>14.51415</td>\n",
       "    </tr>\n",
       "  </tbody>\n",
       "</table>\n",
       "</div>"
      ],
      "text/plain": [
       "             name   platform category   revenue  total_payout      roas\n",
       "2    Influencer_3     TikTok   Travel  19561.03          1000  19.56103\n",
       "8    Influencer_9  Instagram   Travel  18199.33          1000  18.19933\n",
       "9   Influencer_10    YouTube     Food  15051.09          1000  15.05109\n",
       "11  Influencer_12    Twitter  Fitness  14851.59          1000  14.85159\n",
       "5    Influencer_6    Twitter   Beauty  14514.15          1000  14.51415"
      ]
     },
     "execution_count": 7,
     "metadata": {},
     "output_type": "execute_result"
    }
   ],
   "source": [
    "# 🏆 Step 5: Top 5 Influencers by ROAS\n",
    "top5 = df.sort_values(by='roas', ascending=False).head(5)\n",
    "top5[['name', 'platform', 'category', 'revenue', 'total_payout', 'roas']]\n"
   ]
  },
  {
   "cell_type": "code",
   "execution_count": 8,
   "id": "76f15718",
   "metadata": {},
   "outputs": [
    {
     "data": {
      "application/vnd.microsoft.datawrangler.viewer.v0+json": {
       "columns": [
        {
         "name": "index",
         "rawType": "int64",
         "type": "integer"
        },
        {
         "name": "name",
         "rawType": "object",
         "type": "string"
        },
        {
         "name": "platform",
         "rawType": "object",
         "type": "string"
        },
        {
         "name": "category",
         "rawType": "object",
         "type": "string"
        },
        {
         "name": "revenue",
         "rawType": "float64",
         "type": "float"
        },
        {
         "name": "total_payout",
         "rawType": "int64",
         "type": "integer"
        },
        {
         "name": "roas",
         "rawType": "float64",
         "type": "float"
        }
       ],
       "ref": "98eb9253-bf09-471e-af1b-25d73eea2df4",
       "rows": [
        [
         "0",
         "Influencer_1",
         "TikTok",
         "Fitness",
         "7905.59",
         "141700",
         "0.05579103740296401"
        ],
        [
         "17",
         "Influencer_18",
         "Instagram",
         "Fitness",
         "12108.35",
         "204000",
         "0.0593546568627451"
        ],
        [
         "16",
         "Influencer_17",
         "YouTube",
         "Gaming",
         "12187.33",
         "176500",
         "0.0690500283286119"
        ],
        [
         "13",
         "Influencer_14",
         "TikTok",
         "Fashion",
         "14526.97",
         "146750",
         "0.09899127768313458"
        ],
        [
         "15",
         "Influencer_16",
         "Instagram",
         "Tech",
         "13208.42",
         "114850",
         "0.11500583369612538"
        ]
       ],
       "shape": {
        "columns": 6,
        "rows": 5
       }
      },
      "text/html": [
       "<div>\n",
       "<style scoped>\n",
       "    .dataframe tbody tr th:only-of-type {\n",
       "        vertical-align: middle;\n",
       "    }\n",
       "\n",
       "    .dataframe tbody tr th {\n",
       "        vertical-align: top;\n",
       "    }\n",
       "\n",
       "    .dataframe thead th {\n",
       "        text-align: right;\n",
       "    }\n",
       "</style>\n",
       "<table border=\"1\" class=\"dataframe\">\n",
       "  <thead>\n",
       "    <tr style=\"text-align: right;\">\n",
       "      <th></th>\n",
       "      <th>name</th>\n",
       "      <th>platform</th>\n",
       "      <th>category</th>\n",
       "      <th>revenue</th>\n",
       "      <th>total_payout</th>\n",
       "      <th>roas</th>\n",
       "    </tr>\n",
       "  </thead>\n",
       "  <tbody>\n",
       "    <tr>\n",
       "      <th>0</th>\n",
       "      <td>Influencer_1</td>\n",
       "      <td>TikTok</td>\n",
       "      <td>Fitness</td>\n",
       "      <td>7905.59</td>\n",
       "      <td>141700</td>\n",
       "      <td>0.055791</td>\n",
       "    </tr>\n",
       "    <tr>\n",
       "      <th>17</th>\n",
       "      <td>Influencer_18</td>\n",
       "      <td>Instagram</td>\n",
       "      <td>Fitness</td>\n",
       "      <td>12108.35</td>\n",
       "      <td>204000</td>\n",
       "      <td>0.059355</td>\n",
       "    </tr>\n",
       "    <tr>\n",
       "      <th>16</th>\n",
       "      <td>Influencer_17</td>\n",
       "      <td>YouTube</td>\n",
       "      <td>Gaming</td>\n",
       "      <td>12187.33</td>\n",
       "      <td>176500</td>\n",
       "      <td>0.069050</td>\n",
       "    </tr>\n",
       "    <tr>\n",
       "      <th>13</th>\n",
       "      <td>Influencer_14</td>\n",
       "      <td>TikTok</td>\n",
       "      <td>Fashion</td>\n",
       "      <td>14526.97</td>\n",
       "      <td>146750</td>\n",
       "      <td>0.098991</td>\n",
       "    </tr>\n",
       "    <tr>\n",
       "      <th>15</th>\n",
       "      <td>Influencer_16</td>\n",
       "      <td>Instagram</td>\n",
       "      <td>Tech</td>\n",
       "      <td>13208.42</td>\n",
       "      <td>114850</td>\n",
       "      <td>0.115006</td>\n",
       "    </tr>\n",
       "  </tbody>\n",
       "</table>\n",
       "</div>"
      ],
      "text/plain": [
       "             name   platform category   revenue  total_payout      roas\n",
       "0    Influencer_1     TikTok  Fitness   7905.59        141700  0.055791\n",
       "17  Influencer_18  Instagram  Fitness  12108.35        204000  0.059355\n",
       "16  Influencer_17    YouTube   Gaming  12187.33        176500  0.069050\n",
       "13  Influencer_14     TikTok  Fashion  14526.97        146750  0.098991\n",
       "15  Influencer_16  Instagram     Tech  13208.42        114850  0.115006"
      ]
     },
     "execution_count": 8,
     "metadata": {},
     "output_type": "execute_result"
    }
   ],
   "source": [
    "# 👎 Step 6: Bottom 5 Influencers\n",
    "bottom5 = df.sort_values(by='roas').head(5)\n",
    "bottom5[['name', 'platform', 'category', 'revenue', 'total_payout', 'roas']]\n"
   ]
  },
  {
   "cell_type": "code",
   "execution_count": 9,
   "id": "8e3971c8",
   "metadata": {},
   "outputs": [
    {
     "data": {
      "image/png": "[encoded data removed]",
      "text/plain": [
       "<Figure size 1000x500 with 1 Axes>"
      ]
     },
     "metadata": {},
     "output_type": "display_data"
    }
   ],
   "source": [
    "# 📈 Step 7: ROAS Distribution Histogram\n",
    "plt.figure(figsize=(10, 5))\n",
    "sns.histplot(df['roas'], bins=20, kde=True, color='skyblue')\n",
    "plt.title(\"ROAS Distribution Across Influencers\")\n",
    "plt.xlabel(\"ROAS\")\n",
    "plt.ylabel(\"Count\")\n",
    "plt.grid(True)\n",
    "plt.show()\n"
   ]
  },
  {
   "cell_type": "code",
   "execution_count": 10,
   "id": "d4f3b97b",
   "metadata": {},
   "outputs": [
    {
     "name": "stderr",
     "output_type": "stream",
     "text": [
      "C:\\Users\\satya\\AppData\\Local\\Temp\\ipykernel_22840\\2139366634.py:3: FutureWarning: \n",
      "\n",
      "The `ci` parameter is deprecated. Use `errorbar=None` for the same effect.\n",
      "\n",
      "  sns.barplot(data=df, x=\"platform\", y=\"roas\", estimator='mean', ci=None, palette='Set2')\n",
      "C:\\Users\\satya\\AppData\\Local\\Temp\\ipykernel_22840\\2139366634.py:3: FutureWarning: \n",
      "\n",
      "Passing `palette` without assigning `hue` is deprecated and will be removed in v0.14.0. Assign the `x` variable to `hue` and set `legend=False` for the same effect.\n",
      "\n",
      "  sns.barplot(data=df, x=\"platform\", y=\"roas\", estimator='mean', ci=None, palette='Set2')\n"
     ]
    },
    {
     "data": {
      "image/png": "[encoded data removed]",
      "text/plain": [
       "<Figure size 800x500 with 1 Axes>"
      ]
     },
     "metadata": {},
     "output_type": "display_data"
    }
   ],
   "source": [
    "# 📊 Step 8: ROAS by Platform\n",
    "plt.figure(figsize=(8, 5))\n",
    "sns.barplot(data=df, x=\"platform\", y=\"roas\", estimator='mean', ci=None, palette='Set2')\n",
    "plt.title(\"Average ROAS by Platform\")\n",
    "plt.xticks(rotation=45)\n",
    "plt.ylabel(\"Avg ROAS\")\n",
    "plt.grid(True)\n",
    "plt.show()\n"
   ]
  },
  {
   "cell_type": "code",
   "execution_count": 11,
   "id": "48880041",
   "metadata": {},
   "outputs": [
    {
     "name": "stdout",
     "output_type": "stream",
     "text": [
      "Top 5 Influencers exported to outputs/exports/top5_influencers.csv\n"
     ]
    }
   ],
   "source": [
    "# 💾 Step 9: Export Top 5 influencers to CSV\n",
    "export_path = 'outputs/exports/top5_influencers.csv'\n",
    "top5.to_csv(export_path, index=False)\n",
    "print(f\"Top 5 Influencers exported to {export_path}\")\n"
   ]
  }
 ],
 "metadata": {
  "kernelspec": {
   "display_name": "base",
   "language": "python",
   "name": "python3"
  },
  "language_info": {
   "codemirror_mode": {
    "name": "ipython",
    "version": 3
   },
   "file_extension": ".py",
   "mimetype": "text/x-python",
   "name": "python",
   "nbconvert_exporter": "python",
   "pygments_lexer": "ipython3",
   "version": "3.12.3"
  }
 },
 "nbformat": 4,
 "nbformat_minor": 5
}
